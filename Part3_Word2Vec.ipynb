{
 "cells": [
  {
   "cell_type": "code",
   "execution_count": 1,
   "metadata": {},
   "outputs": [],
   "source": [
    "import findspark\n",
    "findspark.init('/home/cse587/spark-2.4.0-bin-hadoop2.7')"
   ]
  },
  {
   "cell_type": "code",
   "execution_count": 2,
   "metadata": {},
   "outputs": [],
   "source": [
    "import pandas as pd\n",
    "import pyspark\n",
    "from pyspark.sql import *"
   ]
  },
  {
   "cell_type": "code",
   "execution_count": 3,
   "metadata": {},
   "outputs": [],
   "source": [
    "from pyspark.ml.feature  import Tokenizer,RegexTokenizer,StopWordsRemover,CountVectorizer,OneHotEncoderEstimator,StringIndexer\n",
    "from pyspark.sql.functions import col, udf\n",
    "from pyspark.sql.types import IntegerType\n",
    "from pyspark.ml.classification import LogisticRegression"
   ]
  },
  {
   "cell_type": "code",
   "execution_count": 4,
   "metadata": {},
   "outputs": [],
   "source": [
    "from pyspark.mllib.classification import LogisticRegressionWithLBFGS, LogisticRegressionModel\n",
    "from pyspark.mllib.regression import LabeledPoint\n",
    "from pyspark.mllib.linalg import Vector as MLLibVector, Vectors as MLLibVectors\n",
    "from pyspark.ml.feature import Word2Vec"
   ]
  },
  {
   "cell_type": "code",
   "execution_count": 5,
   "metadata": {},
   "outputs": [],
   "source": [
    "sc=pyspark.SparkContext()"
   ]
  },
  {
   "cell_type": "code",
   "execution_count": 6,
   "metadata": {},
   "outputs": [],
   "source": [
    "spark= SparkSession \\\n",
    "       .builder \\\n",
    "       .appName(\"PA3\") \\\n",
    "       .config(\"spark.some.config.option\",\"some-value\") \\\n",
    "       .getOrCreate() "
   ]
  },
  {
   "cell_type": "code",
   "execution_count": 7,
   "metadata": {},
   "outputs": [],
   "source": [
    "train_pd = pd.read_csv('train.csv')"
   ]
  },
  {
   "cell_type": "code",
   "execution_count": 8,
   "metadata": {},
   "outputs": [],
   "source": [
    "mapping_pd = pd.read_csv('mapping.csv')\n"
   ]
  },
  {
   "cell_type": "code",
   "execution_count": 9,
   "metadata": {},
   "outputs": [],
   "source": [
    "mapping=spark.createDataFrame(mapping_pd)\n"
   ]
  },
  {
   "cell_type": "code",
   "execution_count": 10,
   "metadata": {},
   "outputs": [],
   "source": [
    "train=spark.createDataFrame(train_pd)"
   ]
  },
  {
   "cell_type": "code",
   "execution_count": 11,
   "metadata": {},
   "outputs": [
    {
     "name": "stdout",
     "output_type": "stream",
     "text": [
      "+--------+--------------------+--------------------+--------------------+\n",
      "|movie_id|          movie_name|                plot|               genre|\n",
      "+--------+--------------------+--------------------+--------------------+\n",
      "|23890098|          Taxi Blues|Shlykov, a hard-w...|['World cinema', ...|\n",
      "|31186339|    The Hunger Games|The nation of Pan...|['Action/Adventur...|\n",
      "|20663735|          Narasimham|Poovalli Induchoo...|['Musical', 'Acti...|\n",
      "| 2231378|  The Lemon Drop Kid|The Lemon Drop Ki...|          ['Comedy']|\n",
      "|  595909|   A Cry in the Dark|Seventh-day Adven...|['Crime Fiction',...|\n",
      "| 5272176|            End Game|The president is ...|['Action/Adventur...|\n",
      "| 1952976|          Dark Water|{{plot}} The film...|['Thriller', 'Dra...|\n",
      "|24225279|                Sing|The story begins ...|           ['Drama']|\n",
      "| 2462689|       Meet John Doe|Infuriated at bei...|['Black-and-white...|\n",
      "|20532852|Destination Meatball|A line of people ...|['Animation', 'Sh...|\n",
      "|15401493|    Husband for Hire|Lola  attempts to...|          ['Comedy']|\n",
      "|18188932|         Up and Down|Milan and Goran a...|['Crime Fiction',...|\n",
      "| 2940516|Ghost In The Noon...|Bumbling pirate c...|          ['Comedy']|\n",
      "| 1480747|       House Party 2|{{plot}} Followin...|          ['Comedy']|\n",
      "|24448645|Forest of the Dam...|Despite Lucy's re...|          ['Horror']|\n",
      "|15072401|Charlie Chan's Se...|Alan Colby, heir ...|['Crime Fiction',...|\n",
      "| 4018288|     The Biggest Fan|Debbie's favorite...|           ['Drama']|\n",
      "| 4596602|      Ashes to Ashes|Ashes to Ashes is...|['Crime Fiction',...|\n",
      "|15224586|        Green Dragon|The film follows ...|  ['Indie', 'Drama']|\n",
      "|15585766|  The Rats of Tobruk|Three friends are...|           ['Drama']|\n",
      "+--------+--------------------+--------------------+--------------------+\n",
      "only showing top 20 rows\n",
      "\n"
     ]
    }
   ],
   "source": [
    "train.show()"
   ]
  },
  {
   "cell_type": "code",
   "execution_count": 12,
   "metadata": {},
   "outputs": [],
   "source": [
    "regexTokenizer = RegexTokenizer(inputCol=\"plot\", outputCol=\"words\", pattern=\"\\\\W\")\n",
    "\n",
    "\n",
    "train=regexTokenizer.transform(train)\n",
    "\n",
    "stopwordsRemover = StopWordsRemover(inputCol=\"words\", outputCol=\"filtered\")\n",
    "\n",
    "train=stopwordsRemover.transform(train)\n",
    "\n",
    "word2Vec = Word2Vec(vectorSize=3, minCount=0, inputCol=\"filtered\", outputCol=\"features\")\n",
    "model3 = word2Vec.fit(train)\n",
    "\n",
    "train = model3.transform(train)\n"
   ]
  },
  {
   "cell_type": "code",
   "execution_count": 13,
   "metadata": {},
   "outputs": [],
   "source": [
    "mapping=spark.createDataFrame(mapping_pd,['id',\"genre\"])"
   ]
  },
  {
   "cell_type": "code",
   "execution_count": 14,
   "metadata": {},
   "outputs": [
    {
     "name": "stdout",
     "output_type": "stream",
     "text": [
      "+---+----------------+\n",
      "| id|           genre|\n",
      "+---+----------------+\n",
      "|  0|           Drama|\n",
      "|  1|          Comedy|\n",
      "|  2|    Romance Film|\n",
      "|  3|        Thriller|\n",
      "|  4|          Action|\n",
      "|  5|    World cinema|\n",
      "|  6|   Crime Fiction|\n",
      "|  7|          Horror|\n",
      "|  8| Black-and-white|\n",
      "|  9|           Indie|\n",
      "| 10|Action/Adventure|\n",
      "| 11|       Adventure|\n",
      "| 12|     Family Film|\n",
      "| 13|      Short Film|\n",
      "| 14|  Romantic drama|\n",
      "| 15|       Animation|\n",
      "| 16|         Musical|\n",
      "| 17| Science Fiction|\n",
      "| 18|         Mystery|\n",
      "| 19| Romantic comedy|\n",
      "+---+----------------+\n",
      "\n"
     ]
    }
   ],
   "source": [
    "mapping.show()\n",
    "count=mapping.count()"
   ]
  },
  {
   "cell_type": "code",
   "execution_count": 15,
   "metadata": {},
   "outputs": [
    {
     "name": "stdout",
     "output_type": "stream",
     "text": [
      "+--------+--------------------+--------------------+--------------------+--------------------+--------------------+--------------------+\n",
      "|movie_id|          movie_name|                plot|               genre|               words|            filtered|            features|\n",
      "+--------+--------------------+--------------------+--------------------+--------------------+--------------------+--------------------+\n",
      "|23890098|          Taxi Blues|Shlykov, a hard-w...|['World cinema', ...|[shlykov, a, hard...|[shlykov, hard, w...|[0.33213255401043...|\n",
      "|31186339|    The Hunger Games|The nation of Pan...|['Action/Adventur...|[the, nation, of,...|[nation, panem, c...|[0.13228705924283...|\n",
      "|20663735|          Narasimham|Poovalli Induchoo...|['Musical', 'Acti...|[poovalli, induch...|[poovalli, induch...|[0.27466382128406...|\n",
      "| 2231378|  The Lemon Drop Kid|The Lemon Drop Ki...|          ['Comedy']|[the, lemon, drop...|[lemon, drop, kid...|[0.26317628090281...|\n",
      "|  595909|   A Cry in the Dark|Seventh-day Adven...|['Crime Fiction',...|[seventh, day, ad...|[seventh, day, ad...|[0.24693335504741...|\n",
      "| 5272176|            End Game|The president is ...|['Action/Adventur...|[the, president, ...|[president, way, ...|[0.19696973239695...|\n",
      "| 1952976|          Dark Water|{{plot}} The film...|['Thriller', 'Dra...|[plot, the, film,...|[plot, film, open...|[0.23371713134484...|\n",
      "|24225279|                Sing|The story begins ...|           ['Drama']|[the, story, begi...|[story, begins, h...|[0.27252787532181...|\n",
      "| 2462689|       Meet John Doe|Infuriated at bei...|['Black-and-white...|[infuriated, at, ...|[infuriated, told...|[0.25804814744954...|\n",
      "|20532852|Destination Meatball|A line of people ...|['Animation', 'Sh...|[a, line, of, peo...|[line, people, dr...|[0.03309506111949...|\n",
      "|15401493|    Husband for Hire|Lola  attempts to...|          ['Comedy']|[lola, attempts, ...|[lola, attempts, ...|[0.32793535725985...|\n",
      "|18188932|         Up and Down|Milan and Goran a...|['Crime Fiction',...|[milan, and, gora...|[milan, goran, tw...|[0.21553461976688...|\n",
      "| 2940516|Ghost In The Noon...|Bumbling pirate c...|          ['Comedy']|[bumbling, pirate...|[bumbling, pirate...|[0.15670275708715...|\n",
      "| 1480747|       House Party 2|{{plot}} Followin...|          ['Comedy']|[plot, following,...|[plot, following,...|[0.27055808990231...|\n",
      "|24448645|Forest of the Dam...|Despite Lucy's re...|          ['Horror']|[despite, lucy, s...|[despite, lucy, r...|[0.29152224267401...|\n",
      "|15072401|Charlie Chan's Se...|Alan Colby, heir ...|['Crime Fiction',...|[alan, colby, hei...|[alan, colby, hei...|[0.27001785226166...|\n",
      "| 4018288|     The Biggest Fan|Debbie's favorite...|           ['Drama']|[debbie, s, favor...|[debbie, favorite...|[0.30018625761124...|\n",
      "| 4596602|      Ashes to Ashes|Ashes to Ashes is...|['Crime Fiction',...|[ashes, to, ashes...|[ashes, ashes, se...|[0.21708735599993...|\n",
      "|15224586|        Green Dragon|The film follows ...|  ['Indie', 'Drama']|[the, film, follo...|[film, follows, e...|[0.25524450489587...|\n",
      "|15585766|  The Rats of Tobruk|Three friends are...|           ['Drama']|[three, friends, ...|[three, friends, ...|[0.18510963703609...|\n",
      "+--------+--------------------+--------------------+--------------------+--------------------+--------------------+--------------------+\n",
      "only showing top 20 rows\n",
      "\n"
     ]
    }
   ],
   "source": [
    "\n",
    "train.show()\n"
   ]
  },
  {
   "cell_type": "code",
   "execution_count": null,
   "metadata": {},
   "outputs": [],
   "source": [
    "import pyspark.sql.functions as f"
   ]
  },
  {
   "cell_type": "code",
   "execution_count": null,
   "metadata": {},
   "outputs": [
    {
     "name": "stdout",
     "output_type": "stream",
     "text": [
      "+--------+--------------------+--------------------+--------------------+--------------------+--------------------+--------------------+\n",
      "|movie_id|          movie_name|                plot|               genre|               words|            filtered|            features|\n",
      "+--------+--------------------+--------------------+--------------------+--------------------+--------------------+--------------------+\n",
      "|23890098|          Taxi Blues|Shlykov, a hard-w...|['World cinema', ...|[shlykov, a, hard...|[shlykov, hard, w...|[0.33213255401043...|\n",
      "|31186339|    The Hunger Games|The nation of Pan...|['Action/Adventur...|[the, nation, of,...|[nation, panem, c...|[0.13228705924283...|\n",
      "|20663735|          Narasimham|Poovalli Induchoo...|['Musical', 'Acti...|[poovalli, induch...|[poovalli, induch...|[0.27466382128406...|\n",
      "| 2231378|  The Lemon Drop Kid|The Lemon Drop Ki...|          ['Comedy']|[the, lemon, drop...|[lemon, drop, kid...|[0.26317628090281...|\n",
      "|  595909|   A Cry in the Dark|Seventh-day Adven...|['Crime Fiction',...|[seventh, day, ad...|[seventh, day, ad...|[0.24693335504741...|\n",
      "| 5272176|            End Game|The president is ...|['Action/Adventur...|[the, president, ...|[president, way, ...|[0.19696973239695...|\n",
      "| 1952976|          Dark Water|{{plot}} The film...|['Thriller', 'Dra...|[plot, the, film,...|[plot, film, open...|[0.23371713134484...|\n",
      "|24225279|                Sing|The story begins ...|           ['Drama']|[the, story, begi...|[story, begins, h...|[0.27252787532181...|\n",
      "| 2462689|       Meet John Doe|Infuriated at bei...|['Black-and-white...|[infuriated, at, ...|[infuriated, told...|[0.25804814744954...|\n",
      "|20532852|Destination Meatball|A line of people ...|['Animation', 'Sh...|[a, line, of, peo...|[line, people, dr...|[0.03309506111949...|\n",
      "|15401493|    Husband for Hire|Lola  attempts to...|          ['Comedy']|[lola, attempts, ...|[lola, attempts, ...|[0.32793535725985...|\n",
      "|18188932|         Up and Down|Milan and Goran a...|['Crime Fiction',...|[milan, and, gora...|[milan, goran, tw...|[0.21553461976688...|\n",
      "| 2940516|Ghost In The Noon...|Bumbling pirate c...|          ['Comedy']|[bumbling, pirate...|[bumbling, pirate...|[0.15670275708715...|\n",
      "| 1480747|       House Party 2|{{plot}} Followin...|          ['Comedy']|[plot, following,...|[plot, following,...|[0.27055808990231...|\n",
      "|24448645|Forest of the Dam...|Despite Lucy's re...|          ['Horror']|[despite, lucy, s...|[despite, lucy, r...|[0.29152224267401...|\n",
      "|15072401|Charlie Chan's Se...|Alan Colby, heir ...|['Crime Fiction',...|[alan, colby, hei...|[alan, colby, hei...|[0.27001785226166...|\n",
      "| 4018288|     The Biggest Fan|Debbie's favorite...|           ['Drama']|[debbie, s, favor...|[debbie, favorite...|[0.30018625761124...|\n",
      "| 4596602|      Ashes to Ashes|Ashes to Ashes is...|['Crime Fiction',...|[ashes, to, ashes...|[ashes, ashes, se...|[0.21708735599993...|\n",
      "|15224586|        Green Dragon|The film follows ...|  ['Indie', 'Drama']|[the, film, follo...|[film, follows, e...|[0.25524450489587...|\n",
      "|15585766|  The Rats of Tobruk|Three friends are...|           ['Drama']|[three, friends, ...|[three, friends, ...|[0.18510963703609...|\n",
      "+--------+--------------------+--------------------+--------------------+--------------------+--------------------+--------------------+\n",
      "only showing top 20 rows\n",
      "\n"
     ]
    }
   ],
   "source": [
    "train.show()"
   ]
  },
  {
   "cell_type": "code",
   "execution_count": null,
   "metadata": {},
   "outputs": [],
   "source": [
    "mapgenre=mapping.select(\"genre\",\"id\").rdd.collectAsMap()"
   ]
  },
  {
   "cell_type": "code",
   "execution_count": null,
   "metadata": {},
   "outputs": [],
   "source": [
    "from pyspark.sql.types import *\n",
    "def fun1(g):\n",
    "    x=[]\n",
    "    print(g)\n",
    "    for i in g[1:-1].split(\",\"):\n",
    "        x.append(mapgenre.get(i.strip()[1:-1]))\n",
    "    x.sort()\n",
    "    return x\n",
    "udff=f.udf(fun1,ArrayType(IntegerType()))\n",
    "\n",
    "train=train.withColumn(\"lab\",udff(\"genre\"))"
   ]
  },
  {
   "cell_type": "code",
   "execution_count": null,
   "metadata": {},
   "outputs": [
    {
     "name": "stdout",
     "output_type": "stream",
     "text": [
      "+--------+--------------------+--------------------+--------------------+--------------------+--------------------+--------------------+----------------+\n",
      "|movie_id|          movie_name|                plot|               genre|               words|            filtered|            features|             lab|\n",
      "+--------+--------------------+--------------------+--------------------+--------------------+--------------------+--------------------+----------------+\n",
      "|23890098|          Taxi Blues|Shlykov, a hard-w...|['World cinema', ...|[shlykov, a, hard...|[shlykov, hard, w...|[0.33213255401043...|          [0, 5]|\n",
      "|31186339|    The Hunger Games|The nation of Pan...|['Action/Adventur...|[the, nation, of,...|[nation, panem, c...|[0.13228705924283...|  [0, 4, 10, 17]|\n",
      "|20663735|          Narasimham|Poovalli Induchoo...|['Musical', 'Acti...|[poovalli, induch...|[poovalli, induch...|[0.27466382128406...|      [0, 4, 16]|\n",
      "| 2231378|  The Lemon Drop Kid|The Lemon Drop Ki...|          ['Comedy']|[the, lemon, drop...|[lemon, drop, kid...|[0.26317628090281...|             [1]|\n",
      "|  595909|   A Cry in the Dark|Seventh-day Adven...|['Crime Fiction',...|[seventh, day, ad...|[seventh, day, ad...|[0.24693335504741...|       [0, 5, 6]|\n",
      "| 5272176|            End Game|The president is ...|['Action/Adventur...|[the, president, ...|[president, way, ...|[0.19696973239695...|   [0, 3, 4, 10]|\n",
      "| 1952976|          Dark Water|{{plot}} The film...|['Thriller', 'Dra...|[plot, the, film,...|[plot, film, open...|[0.23371713134484...|       [0, 3, 7]|\n",
      "|24225279|                Sing|The story begins ...|           ['Drama']|[the, story, begi...|[story, begins, h...|[0.27252787532181...|             [0]|\n",
      "| 2462689|       Meet John Doe|Infuriated at bei...|['Black-and-white...|[infuriated, at, ...|[infuriated, told...|[0.25804814744954...|[0, 1, 2, 8, 19]|\n",
      "|20532852|Destination Meatball|A line of people ...|['Animation', 'Sh...|[a, line, of, peo...|[line, people, dr...|[0.03309506111949...|    [12, 13, 15]|\n",
      "|15401493|    Husband for Hire|Lola  attempts to...|          ['Comedy']|[lola, attempts, ...|[lola, attempts, ...|[0.32793535725985...|             [1]|\n",
      "|18188932|         Up and Down|Milan and Goran a...|['Crime Fiction',...|[milan, and, gora...|[milan, goran, tw...|[0.21553461976688...|    [0, 1, 5, 6]|\n",
      "| 2940516|Ghost In The Noon...|Bumbling pirate c...|          ['Comedy']|[bumbling, pirate...|[bumbling, pirate...|[0.15670275708715...|             [1]|\n",
      "| 1480747|       House Party 2|{{plot}} Followin...|          ['Comedy']|[plot, following,...|[plot, following,...|[0.27055808990231...|             [1]|\n",
      "|24448645|Forest of the Dam...|Despite Lucy's re...|          ['Horror']|[despite, lucy, s...|[despite, lucy, r...|[0.29152224267401...|             [7]|\n",
      "|15072401|Charlie Chan's Se...|Alan Colby, heir ...|['Crime Fiction',...|[alan, colby, hei...|[alan, colby, hei...|[0.27001785226166...|   [3, 6, 7, 18]|\n",
      "| 4018288|     The Biggest Fan|Debbie's favorite...|           ['Drama']|[debbie, s, favor...|[debbie, favorite...|[0.30018625761124...|             [0]|\n",
      "| 4596602|      Ashes to Ashes|Ashes to Ashes is...|['Crime Fiction',...|[ashes, to, ashes...|[ashes, ashes, se...|[0.21708735599993...| [2, 3, 4, 6, 9]|\n",
      "|15224586|        Green Dragon|The film follows ...|  ['Indie', 'Drama']|[the, film, follo...|[film, follows, e...|[0.25524450489587...|          [0, 9]|\n",
      "|15585766|  The Rats of Tobruk|Three friends are...|           ['Drama']|[three, friends, ...|[three, friends, ...|[0.18510963703609...|             [0]|\n",
      "+--------+--------------------+--------------------+--------------------+--------------------+--------------------+--------------------+----------------+\n",
      "only showing top 20 rows\n",
      "\n"
     ]
    }
   ],
   "source": [
    "train.show()\n"
   ]
  },
  {
   "cell_type": "code",
   "execution_count": null,
   "metadata": {},
   "outputs": [
    {
     "name": "stdout",
     "output_type": "stream",
     "text": [
      "+--------+--------------------+--------------------+--------------------+--------------------+--------------------+--------------------+----------------+--------------------+\n",
      "|movie_id|          movie_name|                plot|               genre|               words|            filtered|            features|             lab|               label|\n",
      "+--------+--------------------+--------------------+--------------------+--------------------+--------------------+--------------------+----------------+--------------------+\n",
      "|23890098|          Taxi Blues|Shlykov, a hard-w...|['World cinema', ...|[shlykov, a, hard...|[shlykov, hard, w...|[0.33213255401043...|          [0, 5]|[1, 0, 0, 0, 0, 1...|\n",
      "|31186339|    The Hunger Games|The nation of Pan...|['Action/Adventur...|[the, nation, of,...|[nation, panem, c...|[0.13228705924283...|  [0, 4, 10, 17]|[1, 0, 0, 0, 1, 0...|\n",
      "|20663735|          Narasimham|Poovalli Induchoo...|['Musical', 'Acti...|[poovalli, induch...|[poovalli, induch...|[0.27466382128406...|      [0, 4, 16]|[1, 0, 0, 0, 1, 0...|\n",
      "| 2231378|  The Lemon Drop Kid|The Lemon Drop Ki...|          ['Comedy']|[the, lemon, drop...|[lemon, drop, kid...|[0.26317628090281...|             [1]|[0, 1, 0, 0, 0, 0...|\n",
      "|  595909|   A Cry in the Dark|Seventh-day Adven...|['Crime Fiction',...|[seventh, day, ad...|[seventh, day, ad...|[0.24693335504741...|       [0, 5, 6]|[1, 0, 0, 0, 0, 1...|\n",
      "| 5272176|            End Game|The president is ...|['Action/Adventur...|[the, president, ...|[president, way, ...|[0.19696973239695...|   [0, 3, 4, 10]|[1, 0, 0, 1, 1, 0...|\n",
      "| 1952976|          Dark Water|{{plot}} The film...|['Thriller', 'Dra...|[plot, the, film,...|[plot, film, open...|[0.23371713134484...|       [0, 3, 7]|[1, 0, 0, 1, 0, 0...|\n",
      "|24225279|                Sing|The story begins ...|           ['Drama']|[the, story, begi...|[story, begins, h...|[0.27252787532181...|             [0]|[1, 0, 0, 0, 0, 0...|\n",
      "| 2462689|       Meet John Doe|Infuriated at bei...|['Black-and-white...|[infuriated, at, ...|[infuriated, told...|[0.25804814744954...|[0, 1, 2, 8, 19]|[1, 1, 1, 0, 0, 0...|\n",
      "|20532852|Destination Meatball|A line of people ...|['Animation', 'Sh...|[a, line, of, peo...|[line, people, dr...|[0.03309506111949...|    [12, 13, 15]|[0, 0, 0, 0, 0, 0...|\n",
      "|15401493|    Husband for Hire|Lola  attempts to...|          ['Comedy']|[lola, attempts, ...|[lola, attempts, ...|[0.32793535725985...|             [1]|[0, 1, 0, 0, 0, 0...|\n",
      "|18188932|         Up and Down|Milan and Goran a...|['Crime Fiction',...|[milan, and, gora...|[milan, goran, tw...|[0.21553461976688...|    [0, 1, 5, 6]|[1, 1, 0, 0, 0, 1...|\n",
      "| 2940516|Ghost In The Noon...|Bumbling pirate c...|          ['Comedy']|[bumbling, pirate...|[bumbling, pirate...|[0.15670275708715...|             [1]|[0, 1, 0, 0, 0, 0...|\n",
      "| 1480747|       House Party 2|{{plot}} Followin...|          ['Comedy']|[plot, following,...|[plot, following,...|[0.27055808990231...|             [1]|[0, 1, 0, 0, 0, 0...|\n",
      "|24448645|Forest of the Dam...|Despite Lucy's re...|          ['Horror']|[despite, lucy, s...|[despite, lucy, r...|[0.29152224267401...|             [7]|[0, 0, 0, 0, 0, 0...|\n",
      "|15072401|Charlie Chan's Se...|Alan Colby, heir ...|['Crime Fiction',...|[alan, colby, hei...|[alan, colby, hei...|[0.27001785226166...|   [3, 6, 7, 18]|[0, 0, 0, 1, 0, 0...|\n",
      "| 4018288|     The Biggest Fan|Debbie's favorite...|           ['Drama']|[debbie, s, favor...|[debbie, favorite...|[0.30018625761124...|             [0]|[1, 0, 0, 0, 0, 0...|\n",
      "| 4596602|      Ashes to Ashes|Ashes to Ashes is...|['Crime Fiction',...|[ashes, to, ashes...|[ashes, ashes, se...|[0.21708735599993...| [2, 3, 4, 6, 9]|[0, 0, 1, 1, 1, 0...|\n",
      "|15224586|        Green Dragon|The film follows ...|  ['Indie', 'Drama']|[the, film, follo...|[film, follows, e...|[0.25524450489587...|          [0, 9]|[1, 0, 0, 0, 0, 0...|\n",
      "|15585766|  The Rats of Tobruk|Three friends are...|           ['Drama']|[three, friends, ...|[three, friends, ...|[0.18510963703609...|             [0]|[1, 0, 0, 0, 0, 0...|\n",
      "+--------+--------------------+--------------------+--------------------+--------------------+--------------------+--------------------+----------------+--------------------+\n",
      "only showing top 20 rows\n",
      "\n"
     ]
    }
   ],
   "source": [
    "def fun2(g):\n",
    "    y=1\n",
    "    x=[]\n",
    "    for i in range(0,count):\n",
    "        x.append(0)\n",
    "    \n",
    "    \n",
    "    for i in g:\n",
    "        x[i]=1\n",
    "        \n",
    "    \n",
    "    return x\n",
    "udff=f.udf(fun2,ArrayType(IntegerType()))\n",
    "traindata=train.withColumn(\"label\",udff(\"lab\"))\n",
    "traindata.show()\n"
   ]
  },
  {
   "cell_type": "code",
   "execution_count": null,
   "metadata": {},
   "outputs": [],
   "source": [
    "#Training the model and predicting on train data \n",
    "# x=[]\n",
    "# for i in range(0,count):\n",
    "    \n",
    "#     def parsePoint(line):\n",
    "    \n",
    "#         return LabeledPoint(line.label[i], MLLibVectors.fromML(line.features))\n",
    "#     parsedData = traindata.rdd.map(parsePoint)\n",
    "#     model = LogisticRegressionWithLBFGS.train(parsedData)\n",
    "#     labelsAndPreds = traindata.rdd.map(lambda p: (p.movie_id, model.predict(MLLibVectors.fromML(p.features))))\n",
    "#     x.append(labelsAndPreds.collect())"
   ]
  },
  {
   "cell_type": "code",
   "execution_count": null,
   "metadata": {},
   "outputs": [],
   "source": [
    "# y={}\n",
    "# for i in x:\n",
    "#     for j in i:\n",
    "#         if j[0] in y:\n",
    "#             y[j[0]].append(j[1])\n",
    "#         else:\n",
    "#             y[j[0]]=[]\n",
    "#             y[j[0]].append(j[1])"
   ]
  },
  {
   "cell_type": "code",
   "execution_count": null,
   "metadata": {},
   "outputs": [],
   "source": [
    "# for i in y:\n",
    "#     print(i,y[i])"
   ]
  },
  {
   "cell_type": "code",
   "execution_count": null,
   "metadata": {},
   "outputs": [
    {
     "name": "stdout",
     "output_type": "stream",
     "text": [
      "+--------+--------------------+--------------------+\n",
      "|movie_id|          movie_name|                plot|\n",
      "+--------+--------------------+--------------------+\n",
      "| 1335380|              Exodus|The film is based...|\n",
      "|29062594|A la salida nos v...|A group of teenag...|\n",
      "| 9252321|   Come Back, Africa|This story of a Z...|\n",
      "|13455076|       A Merry Mixup|The Stooges play ...|\n",
      "|24165951|        Getting Even|A soldier-of-fort...|\n",
      "| 1925869|  River of No Return|Set in the Northw...|\n",
      "|10799612|          Amici miei|Like in many othe...|\n",
      "|28238240|Mickey's Big Game...|Mickey and the Sc...|\n",
      "|17124781|The Good, the Bad...|In the desert wil...|\n",
      "|28207941|    The Dancing Fool|Bimbo and Koko ar...|\n",
      "|19174305|              Tahaan|Tahaan  lives wit...|\n",
      "|18392317|     Mysterious Mose|Betty is startled...|\n",
      "|34420857|Kelviyum Naane Pa...|Nirmal ([[Karthik...|\n",
      "| 4039635|   First on the Moon|A group of journa...|\n",
      "| 8034072|  Journey of a Woman|Vaibhavari Sahay,...|\n",
      "| 4016437|     Sophie's Choice|In 1947, the movi...|\n",
      "| 1520023|  Ninja Resurrection|Ninja Resurrectio...|\n",
      "|24589422|      Maria’s Lovers|In the spring of ...|\n",
      "|35068740|           Chinnavar|Muthu ([[Prabhu  ...|\n",
      "|21132951|              Aparan|Vishwanathan , an...|\n",
      "+--------+--------------------+--------------------+\n",
      "only showing top 20 rows\n",
      "\n"
     ]
    }
   ],
   "source": [
    "test_pd = pd.read_csv('test.csv')\n",
    "test=spark.createDataFrame(test_pd)\n",
    "test.show()"
   ]
  },
  {
   "cell_type": "code",
   "execution_count": null,
   "metadata": {},
   "outputs": [],
   "source": [
    "from pyspark.ml.feature import Word2Vec"
   ]
  },
  {
   "cell_type": "code",
   "execution_count": null,
   "metadata": {},
   "outputs": [],
   "source": [
    "\n",
    "\n",
    "\n",
    "test=regexTokenizer.transform(test)\n",
    "\n",
    "\n",
    "\n",
    "test=stopwordsRemover.transform(test)\n",
    "\n",
    "\n",
    "\n"
   ]
  },
  {
   "cell_type": "code",
   "execution_count": null,
   "metadata": {},
   "outputs": [],
   "source": [
    "\n",
    "\n",
    "testdata = model3.transform(test)"
   ]
  },
  {
   "cell_type": "code",
   "execution_count": null,
   "metadata": {},
   "outputs": [
    {
     "name": "stdout",
     "output_type": "stream",
     "text": [
      "+--------+--------------------+--------------------+--------------------+--------------------+--------------------+\n",
      "|movie_id|          movie_name|                plot|               words|            filtered|            features|\n",
      "+--------+--------------------+--------------------+--------------------+--------------------+--------------------+\n",
      "| 1335380|              Exodus|The film is based...|[the, film, is, b...|[film, based, eve...|[0.20447801023272...|\n",
      "|29062594|A la salida nos v...|A group of teenag...|[a, group, of, te...|[group, teenagers...|[0.35377794303573...|\n",
      "| 9252321|   Come Back, Africa|This story of a Z...|[this, story, of,...|[story, zulu, fam...|[0.21313134880154...|\n",
      "|13455076|       A Merry Mixup|The Stooges play ...|[the, stooges, pl...|[stooges, play, t...|[0.28419763109449...|\n",
      "|24165951|        Getting Even|A soldier-of-fort...|[a, soldier, of, ...|[soldier, fortune...|[0.15919354464858...|\n",
      "| 1925869|  River of No Return|Set in the Northw...|[set, in, the, no...|[set, northwester...|[0.24229604918887...|\n",
      "|10799612|          Amici miei|Like in many othe...|[like, in, many, ...|[like, many, moni...|[0.24857874801587...|\n",
      "|28238240|Mickey's Big Game...|Mickey and the Sc...|[mickey, and, the...|[mickey, scorpion...|[0.19288068743688...|\n",
      "|17124781|The Good, the Bad...|In the desert wil...|[in, the, desert,...|[desert, wilderne...|[0.11459835136891...|\n",
      "|28207941|    The Dancing Fool|Bimbo and Koko ar...|[bimbo, and, koko...|[bimbo, koko, sig...|[0.16689900801117...|\n",
      "|19174305|              Tahaan|Tahaan  lives wit...|[tahaan, lives, w...|[tahaan, lives, g...|[0.20207430699306...|\n",
      "|18392317|     Mysterious Mose|Betty is startled...|[betty, is, start...|[betty, startled,...|[0.15648940581461...|\n",
      "|34420857|Kelviyum Naane Pa...|Nirmal ([[Karthik...|[nirmal, karthik,...|[nirmal, karthik,...|[0.35333995036043...|\n",
      "| 4039635|   First on the Moon|A group of journa...|[a, group, of, jo...|[group, journalis...|[0.13786223519051...|\n",
      "| 8034072|  Journey of a Woman|Vaibhavari Sahay,...|[vaibhavari, saha...|[vaibhavari, saha...|[0.30875665181747...|\n",
      "| 4016437|     Sophie's Choice|In 1947, the movi...|[in, 1947, the, m...|[1947, movie, nar...|[0.27350398382792...|\n",
      "| 1520023|  Ninja Resurrection|Ninja Resurrectio...|[ninja, resurrect...|[ninja, resurrect...|[0.09992903717090...|\n",
      "|24589422|      Maria’s Lovers|In the spring of ...|[in, the, spring,...|[spring, 1946, iv...|[0.29607270020287...|\n",
      "|35068740|           Chinnavar|Muthu ([[Prabhu  ...|[muthu, prabhu, a...|[muthu, prabhu, v...|[0.43795028242343...|\n",
      "|21132951|              Aparan|Vishwanathan , an...|[vishwanathan, an...|[vishwanathan, in...|[0.29346284252002...|\n",
      "+--------+--------------------+--------------------+--------------------+--------------------+--------------------+\n",
      "only showing top 20 rows\n",
      "\n"
     ]
    }
   ],
   "source": [
    "testdata.show()"
   ]
  },
  {
   "cell_type": "code",
   "execution_count": null,
   "metadata": {},
   "outputs": [],
   "source": [
    "x=[]\n",
    "for i in range(0,count):\n",
    "    \n",
    "    def parsePoint(line):\n",
    "    \n",
    "        return LabeledPoint(line.label[i], MLLibVectors.fromML(line.features))\n",
    "    parsedData = traindata.rdd.map(parsePoint)\n",
    "    model = LogisticRegressionWithLBFGS.train(parsedData)\n",
    "    labelsAndPreds = testdata.rdd.map(lambda p: (p.movie_id, model.predict(MLLibVectors.fromML(p.features))))\n",
    "    x.append(labelsAndPreds.collect())"
   ]
  },
  {
   "cell_type": "code",
   "execution_count": null,
   "metadata": {},
   "outputs": [],
   "source": [
    "y={}\n",
    "for i in x:\n",
    "    for j in i:\n",
    "        if j[0] in y:\n",
    "            y[j[0]].append(j[1])\n",
    "        else:\n",
    "            y[j[0]]=[]\n",
    "            y[j[0]].append(j[1])\n",
    "for i in y:\n",
    "    print(i,y[i])"
   ]
  },
  {
   "cell_type": "code",
   "execution_count": null,
   "metadata": {},
   "outputs": [],
   "source": []
  },
  {
   "cell_type": "code",
   "execution_count": null,
   "metadata": {},
   "outputs": [],
   "source": []
  },
  {
   "cell_type": "code",
   "execution_count": null,
   "metadata": {},
   "outputs": [],
   "source": []
  },
  {
   "cell_type": "code",
   "execution_count": null,
   "metadata": {},
   "outputs": [],
   "source": []
  },
  {
   "cell_type": "code",
   "execution_count": null,
   "metadata": {},
   "outputs": [],
   "source": []
  },
  {
   "cell_type": "code",
   "execution_count": null,
   "metadata": {},
   "outputs": [],
   "source": []
  },
  {
   "cell_type": "code",
   "execution_count": null,
   "metadata": {},
   "outputs": [],
   "source": []
  }
 ],
 "metadata": {
  "kernelspec": {
   "display_name": "Python 3",
   "language": "python",
   "name": "python3"
  },
  "language_info": {
   "codemirror_mode": {
    "name": "ipython",
    "version": 3
   },
   "file_extension": ".py",
   "mimetype": "text/x-python",
   "name": "python",
   "nbconvert_exporter": "python",
   "pygments_lexer": "ipython3",
   "version": "3.6.5"
  }
 },
 "nbformat": 4,
 "nbformat_minor": 2
}
